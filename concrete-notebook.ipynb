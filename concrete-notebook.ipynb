{
 "cells": [
  {
   "cell_type": "markdown",
   "id": "2ad6b5ba-3bd6-47ca-9aa6-6e9e23a203ca",
   "metadata": {},
   "source": [
    "# Concrete Strength - Machine Learning\n",
    "This project has the goal of predicting the concrete strength based on some features.\n",
    "\n",
    "## Data\n",
    "The dataset was provided by Kaggle: https://www.kaggle.com/datasets/maajdl/yeh-concret-data\n",
    "And ahs the following sctructure:\n",
    "\n",
    "* `Cement`: kg in a m3 mixture\n",
    "* `Blast Furnace Slag`: kg in a m3 mixture\n",
    "* `Fly Ash`: kg in a m3 mixture\n",
    "* `Water`: kg in a m3 mixture\n",
    "* `Superplasticizer`: kg in a m3 mixture\n",
    "* `Coarse Aggregate`: kg in a m3 mixture\n",
    "* `Fine Aggregate`: kg in a m3 mixture\n",
    "* `Age`: Day (1~365) \n",
    "* `Concrete compressive strength`: MPa (target)"
   ]
  },
  {
   "cell_type": "markdown",
   "id": "39cfcef8-7e50-4a1a-a886-8b4afde45f85",
   "metadata": {},
   "source": [
    "## Importing tools"
   ]
  },
  {
   "cell_type": "code",
   "execution_count": 1,
   "id": "b23f25a4-d079-49ef-8ea8-806108053e2c",
   "metadata": {},
   "outputs": [],
   "source": [
    "# utilities\n",
    "import pandas as pd\n",
    "import numpy as np\n",
    "import matplotlib.pyplot as plt\n",
    "import seaborn as sn\n",
    "\n",
    "# models(estimators)\n",
    "from sklearn.linear_model import Ridge\n",
    "from sklearn.svm import SVR # kernl='linear' and kernel='rbf'\n",
    "from sklearn.ensemble import RandomForestRegressor\n"
   ]
  },
  {
   "cell_type": "code",
   "execution_count": 2,
   "id": "f08d9a7c-65b6-4f21-96cd-457895e9c01a",
   "metadata": {},
   "outputs": [
    {
     "data": {
      "text/html": [
       "<div>\n",
       "<style scoped>\n",
       "    .dataframe tbody tr th:only-of-type {\n",
       "        vertical-align: middle;\n",
       "    }\n",
       "\n",
       "    .dataframe tbody tr th {\n",
       "        vertical-align: top;\n",
       "    }\n",
       "\n",
       "    .dataframe thead th {\n",
       "        text-align: right;\n",
       "    }\n",
       "</style>\n",
       "<table border=\"1\" class=\"dataframe\">\n",
       "  <thead>\n",
       "    <tr style=\"text-align: right;\">\n",
       "      <th></th>\n",
       "      <th>cement</th>\n",
       "      <th>slag</th>\n",
       "      <th>flyash</th>\n",
       "      <th>water</th>\n",
       "      <th>superplasticizer</th>\n",
       "      <th>coarseaggregate</th>\n",
       "      <th>fineaggregate</th>\n",
       "      <th>age</th>\n",
       "      <th>csMPa</th>\n",
       "    </tr>\n",
       "  </thead>\n",
       "  <tbody>\n",
       "    <tr>\n",
       "      <th>181</th>\n",
       "      <td>389.9</td>\n",
       "      <td>189.0</td>\n",
       "      <td>0.0</td>\n",
       "      <td>145.9</td>\n",
       "      <td>22.0</td>\n",
       "      <td>944.7</td>\n",
       "      <td>755.8</td>\n",
       "      <td>91</td>\n",
       "      <td>82.60</td>\n",
       "    </tr>\n",
       "    <tr>\n",
       "      <th>381</th>\n",
       "      <td>315.0</td>\n",
       "      <td>137.0</td>\n",
       "      <td>0.0</td>\n",
       "      <td>145.0</td>\n",
       "      <td>5.9</td>\n",
       "      <td>1130.0</td>\n",
       "      <td>745.0</td>\n",
       "      <td>28</td>\n",
       "      <td>81.75</td>\n",
       "    </tr>\n",
       "    <tr>\n",
       "      <th>153</th>\n",
       "      <td>323.7</td>\n",
       "      <td>282.8</td>\n",
       "      <td>0.0</td>\n",
       "      <td>183.8</td>\n",
       "      <td>10.3</td>\n",
       "      <td>942.7</td>\n",
       "      <td>659.9</td>\n",
       "      <td>56</td>\n",
       "      <td>80.20</td>\n",
       "    </tr>\n",
       "    <tr>\n",
       "      <th>0</th>\n",
       "      <td>540.0</td>\n",
       "      <td>0.0</td>\n",
       "      <td>0.0</td>\n",
       "      <td>162.0</td>\n",
       "      <td>2.5</td>\n",
       "      <td>1040.0</td>\n",
       "      <td>676.0</td>\n",
       "      <td>28</td>\n",
       "      <td>79.99</td>\n",
       "    </tr>\n",
       "    <tr>\n",
       "      <th>159</th>\n",
       "      <td>389.9</td>\n",
       "      <td>189.0</td>\n",
       "      <td>0.0</td>\n",
       "      <td>145.9</td>\n",
       "      <td>22.0</td>\n",
       "      <td>944.7</td>\n",
       "      <td>755.8</td>\n",
       "      <td>56</td>\n",
       "      <td>79.40</td>\n",
       "    </tr>\n",
       "  </tbody>\n",
       "</table>\n",
       "</div>"
      ],
      "text/plain": [
       "     cement   slag  flyash  water  superplasticizer  coarseaggregate  \\\n",
       "181   389.9  189.0     0.0  145.9              22.0            944.7   \n",
       "381   315.0  137.0     0.0  145.0               5.9           1130.0   \n",
       "153   323.7  282.8     0.0  183.8              10.3            942.7   \n",
       "0     540.0    0.0     0.0  162.0               2.5           1040.0   \n",
       "159   389.9  189.0     0.0  145.9              22.0            944.7   \n",
       "\n",
       "     fineaggregate  age  csMPa  \n",
       "181          755.8   91  82.60  \n",
       "381          745.0   28  81.75  \n",
       "153          659.9   56  80.20  \n",
       "0            676.0   28  79.99  \n",
       "159          755.8   56  79.40  "
      ]
     },
     "execution_count": 2,
     "metadata": {},
     "output_type": "execute_result"
    }
   ],
   "source": [
    "# getting the data\n",
    "df = pd.read_csv(\"data/concrete_data.csv\")\n",
    "df.sort_values(by=[\"csMPa\"], ascending=False, inplace=True)\n",
    "\n",
    "# top 5 strength\n",
    "df.head()"
   ]
  },
  {
   "cell_type": "code",
   "execution_count": 3,
   "id": "e6aa9ce6-3ee4-4c11-b729-d803ae744875",
   "metadata": {},
   "outputs": [
    {
     "data": {
      "text/html": [
       "<div>\n",
       "<style scoped>\n",
       "    .dataframe tbody tr th:only-of-type {\n",
       "        vertical-align: middle;\n",
       "    }\n",
       "\n",
       "    .dataframe tbody tr th {\n",
       "        vertical-align: top;\n",
       "    }\n",
       "\n",
       "    .dataframe thead th {\n",
       "        text-align: right;\n",
       "    }\n",
       "</style>\n",
       "<table border=\"1\" class=\"dataframe\">\n",
       "  <thead>\n",
       "    <tr style=\"text-align: right;\">\n",
       "      <th></th>\n",
       "      <th>cement</th>\n",
       "      <th>slag</th>\n",
       "      <th>flyash</th>\n",
       "      <th>water</th>\n",
       "      <th>superplasticizer</th>\n",
       "      <th>coarseaggregate</th>\n",
       "      <th>fineaggregate</th>\n",
       "      <th>age</th>\n",
       "      <th>csMPa</th>\n",
       "    </tr>\n",
       "  </thead>\n",
       "  <tbody>\n",
       "    <tr>\n",
       "      <th>717</th>\n",
       "      <td>141.3</td>\n",
       "      <td>212.0</td>\n",
       "      <td>0.0</td>\n",
       "      <td>203.5</td>\n",
       "      <td>0.0</td>\n",
       "      <td>971.8</td>\n",
       "      <td>748.5</td>\n",
       "      <td>3</td>\n",
       "      <td>4.83</td>\n",
       "    </tr>\n",
       "    <tr>\n",
       "      <th>668</th>\n",
       "      <td>153.0</td>\n",
       "      <td>102.0</td>\n",
       "      <td>0.0</td>\n",
       "      <td>192.0</td>\n",
       "      <td>0.0</td>\n",
       "      <td>888.0</td>\n",
       "      <td>943.1</td>\n",
       "      <td>3</td>\n",
       "      <td>4.78</td>\n",
       "    </tr>\n",
       "    <tr>\n",
       "      <th>652</th>\n",
       "      <td>102.0</td>\n",
       "      <td>153.0</td>\n",
       "      <td>0.0</td>\n",
       "      <td>192.0</td>\n",
       "      <td>0.0</td>\n",
       "      <td>887.0</td>\n",
       "      <td>942.0</td>\n",
       "      <td>3</td>\n",
       "      <td>4.57</td>\n",
       "    </tr>\n",
       "    <tr>\n",
       "      <th>705</th>\n",
       "      <td>122.6</td>\n",
       "      <td>183.9</td>\n",
       "      <td>0.0</td>\n",
       "      <td>203.5</td>\n",
       "      <td>0.0</td>\n",
       "      <td>958.2</td>\n",
       "      <td>800.1</td>\n",
       "      <td>3</td>\n",
       "      <td>3.32</td>\n",
       "    </tr>\n",
       "    <tr>\n",
       "      <th>688</th>\n",
       "      <td>108.3</td>\n",
       "      <td>162.4</td>\n",
       "      <td>0.0</td>\n",
       "      <td>203.5</td>\n",
       "      <td>0.0</td>\n",
       "      <td>938.2</td>\n",
       "      <td>849.0</td>\n",
       "      <td>3</td>\n",
       "      <td>2.33</td>\n",
       "    </tr>\n",
       "  </tbody>\n",
       "</table>\n",
       "</div>"
      ],
      "text/plain": [
       "     cement   slag  flyash  water  superplasticizer  coarseaggregate  \\\n",
       "717   141.3  212.0     0.0  203.5               0.0            971.8   \n",
       "668   153.0  102.0     0.0  192.0               0.0            888.0   \n",
       "652   102.0  153.0     0.0  192.0               0.0            887.0   \n",
       "705   122.6  183.9     0.0  203.5               0.0            958.2   \n",
       "688   108.3  162.4     0.0  203.5               0.0            938.2   \n",
       "\n",
       "     fineaggregate  age  csMPa  \n",
       "717          748.5    3   4.83  \n",
       "668          943.1    3   4.78  \n",
       "652          942.0    3   4.57  \n",
       "705          800.1    3   3.32  \n",
       "688          849.0    3   2.33  "
      ]
     },
     "execution_count": 3,
     "metadata": {},
     "output_type": "execute_result"
    }
   ],
   "source": [
    "# bottom 5 strength\n",
    "df.tail()"
   ]
  },
  {
   "cell_type": "code",
   "execution_count": 4,
   "id": "ba06aab6-957e-45f6-be1c-fbaa300f5398",
   "metadata": {},
   "outputs": [
    {
     "data": {
      "text/plain": [
       "1030"
      ]
     },
     "execution_count": 4,
     "metadata": {},
     "output_type": "execute_result"
    }
   ],
   "source": [
    "len(df)"
   ]
  },
  {
   "cell_type": "code",
   "execution_count": 5,
   "id": "cb779b84-5f8d-4f14-a593-465198a5ca4b",
   "metadata": {},
   "outputs": [
    {
     "data": {
      "text/plain": [
       "cement              0\n",
       "slag                0\n",
       "flyash              0\n",
       "water               0\n",
       "superplasticizer    0\n",
       "coarseaggregate     0\n",
       "fineaggregate       0\n",
       "age                 0\n",
       "csMPa               0\n",
       "dtype: int64"
      ]
     },
     "execution_count": 5,
     "metadata": {},
     "output_type": "execute_result"
    }
   ],
   "source": [
    "# checking for missing values\n",
    "df.isna().sum()"
   ]
  },
  {
   "cell_type": "code",
   "execution_count": 6,
   "id": "1b73ce7d-3c9d-4ca0-919b-1aedbc62989b",
   "metadata": {},
   "outputs": [
    {
     "data": {
      "text/plain": [
       "25"
      ]
     },
     "execution_count": 6,
     "metadata": {},
     "output_type": "execute_result"
    }
   ],
   "source": [
    "# checking for duplicates\n",
    "df.duplicated().sum()"
   ]
  },
  {
   "cell_type": "code",
   "execution_count": 7,
   "id": "5e2ef770-dda3-4b97-8cc6-a593269b7fb6",
   "metadata": {},
   "outputs": [
    {
     "data": {
      "text/plain": [
       "0"
      ]
     },
     "execution_count": 7,
     "metadata": {},
     "output_type": "execute_result"
    }
   ],
   "source": [
    "# removing duplicates\n",
    "df.drop_duplicates(inplace=True)\n",
    "df.duplicated().sum()"
   ]
  },
  {
   "cell_type": "markdown",
   "id": "a8003efd-0f04-409a-b140-badc7fbba349",
   "metadata": {},
   "source": [
    "### Correlation Matrix"
   ]
  },
  {
   "cell_type": "code",
   "execution_count": 14,
   "id": "55e6f1d1-d425-4ccc-9427-f7d109bd2599",
   "metadata": {},
   "outputs": [
    {
     "data": {
      "image/png": "[encoded data removed]",
      "text/plain": [
       "<Figure size 640x480 with 2 Axes>"
      ]
     },
     "metadata": {},
     "output_type": "display_data"
    }
   ],
   "source": [
    "corr = df.corr()\n",
    "sn.heatmap(corr, annot=True, cmap=\"crest\")\n",
    "plt.show()"
   ]
  },
  {
   "cell_type": "markdown",
   "id": "846459f7-5420-4d87-a6a4-852c9c203ddf",
   "metadata": {},
   "source": [
    "### Ploting potential features"
   ]
  },
  {
   "cell_type": "markdown",
   "id": "a4719ead-e81d-423b-8110-887450e2e0b4",
   "metadata": {},
   "source": [
    "### Cement x Strength"
   ]
  },
  {
   "cell_type": "code",
   "execution_count": 14,
   "id": "3234538a-7adc-4f98-9746-8603e5c2303f",
   "metadata": {},
   "outputs": [
    {
     "data": {
      "image/png": "[encoded data removed]",
      "text/plain": [
       "<Figure size 640x480 with 1 Axes>"
      ]
     },
     "metadata": {},
     "output_type": "display_data"
    }
   ],
   "source": [
    "fig, ax = plt.subplots()\n",
    "ax.bar(df.csMPa, df.cement)\n",
    "ax.set(xlabel=\"Concrete Strength (MPa)\", ylabel=\"Cement\")\n",
    "plt.show()"
   ]
  },
  {
   "cell_type": "markdown",
   "id": "699368d5-fde5-48ab-a973-239bf12c6164",
   "metadata": {},
   "source": [
    "It is kinda visible a slight curve ascending. "
   ]
  },
  {
   "cell_type": "markdown",
   "id": "1978c27c-e572-4aec-aa9d-a070ade7959c",
   "metadata": {},
   "source": [
    "### Superplasticize x Strength"
   ]
  },
  {
   "cell_type": "code",
   "execution_count": 15,
   "id": "42ab0cbc-90f4-416c-8245-b5e4d3c87877",
   "metadata": {},
   "outputs": [
    {
     "data": {
      "image/png": "[encoded data removed]",
      "text/plain": [
       "<Figure size 640x480 with 1 Axes>"
      ]
     },
     "metadata": {},
     "output_type": "display_data"
    }
   ],
   "source": [
    "fig, ax = plt.subplots()\n",
    "ax.bar(df.csMPa, df.cement)\n",
    "ax.set(xlabel=\"Concrete Strength (MPa)\", ylabel=\"superpaslticize\")\n",
    "plt.show()"
   ]
  },
  {
   "cell_type": "markdown",
   "id": "06a685da-c349-4001-9474-f034c74b2a37",
   "metadata": {},
   "source": [
    "Again kinda a ascending curve"
   ]
  },
  {
   "cell_type": "markdown",
   "id": "73b9cbd0-c6a0-42ee-9112-b9cd4db42a17",
   "metadata": {},
   "source": [
    "## Modeling"
   ]
  },
  {
   "cell_type": "code",
   "execution_count": null,
   "id": "a4499c34-6809-4584-8c11-49e3b11aab35",
   "metadata": {},
   "outputs": [],
   "source": []
  }
 ],
 "metadata": {
  "kernelspec": {
   "display_name": "Python 3 (ipykernel)",
   "language": "python",
   "name": "python3"
  },
  "language_info": {
   "codemirror_mode": {
    "name": "ipython",
    "version": 3
   },
   "file_extension": ".py",
   "mimetype": "text/x-python",
   "name": "python",
   "nbconvert_exporter": "python",
   "pygments_lexer": "ipython3",
   "version": "3.9.18"
  }
 },
 "nbformat": 4,
 "nbformat_minor": 5
}
